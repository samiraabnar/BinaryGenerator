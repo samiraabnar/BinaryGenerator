{
 "cells": [
  {
   "cell_type": "code",
   "execution_count": 1,
   "metadata": {
    "collapsed": true
   },
   "outputs": [],
   "source": [
    "import theano\n",
    "import theano.tensor as T\n",
    "import numpy as np"
   ]
  },
  {
   "cell_type": "code",
   "execution_count": 53,
   "metadata": {
    "collapsed": false
   },
   "outputs": [],
   "source": [
    "class LSTM_cell(object):\n",
    "    \n",
    "    \n",
    "    def __init__(self):\n",
    "        self.random_state = np.random.RandomState(284783)\n",
    "        self.output_dim = 10\n",
    "        self.outer_output_dim = 10\n",
    "        self.input_dim = self.outer_output_dim\n",
    "        self.layer_id = \"0\"\n",
    "        self.learning_rate = 0.1\n",
    "        \n",
    "        self.initialize_params()\n",
    "        \n",
    "       \n",
    "        \n",
    "        \n",
    "    def initialize_params(self):\n",
    "        U_input = np.asarray(\n",
    "            self.random_state.normal(-np.sqrt(6.0 / (self.input_dim + self.output_dim)),\n",
    "                                     np.sqrt(6.0 / (self.input_dim + self.output_dim)),\n",
    "                                     (self.output_dim, self.input_dim))\n",
    "            , dtype=theano.config.floatX)\n",
    "\n",
    "        U_forget = np.asarray(\n",
    "            self.random_state.normal(-np.sqrt(6.0 / (self.input_dim + self.output_dim)),\n",
    "                                     np.sqrt(6.0 / (self.input_dim + self.output_dim)),\n",
    "                                     (self.output_dim, self.input_dim))\n",
    "            , dtype=theano.config.floatX)\n",
    "\n",
    "        U_output = np.asarray(\n",
    "            self.random_state.normal(-np.sqrt(6.0 / (self.input_dim + self.output_dim)),\n",
    "                                     np.sqrt(6.0 / (self.input_dim + self.output_dim)),\n",
    "                                     (self.output_dim, self.input_dim))\n",
    "            , dtype=theano.config.floatX)\n",
    "\n",
    "        W_input = np.asarray(\n",
    "            self.random_state.normal(-np.sqrt(6.0 / (self.output_dim + self.output_dim)),\n",
    "                                     np.sqrt(6.0 / (self.output_dim + self.output_dim)),\n",
    "                                     (self.output_dim, self.output_dim))\n",
    "            , dtype=theano.config.floatX)\n",
    "\n",
    "        W_forget = np.asarray(\n",
    "            self.random_state.normal(-np.sqrt(6.0 / (self.output_dim + self.output_dim)),\n",
    "                                     np.sqrt(6.0 / (self.output_dim + self.output_dim)),\n",
    "                                     (self.output_dim, self.output_dim))\n",
    "            , dtype=theano.config.floatX)\n",
    "\n",
    "        W_output = np.asarray(\n",
    "            self.random_state.normal(-np.sqrt(6.0 / (self.output_dim + self.output_dim)),\n",
    "                                     np.sqrt(6.0 / (self.output_dim + self.output_dim)),\n",
    "                                     (self.output_dim, self.output_dim))\n",
    "            , dtype=theano.config.floatX)\n",
    "\n",
    "        U = np.asarray(\n",
    "            self.random_state.normal(-np.sqrt(6.0 / (self.input_dim + self.output_dim)),\n",
    "                                     np.sqrt(6.0 / (self.input_dim + self.output_dim)),\n",
    "                                     (self.output_dim, self.input_dim))\n",
    "            , dtype=theano.config.floatX)\n",
    "\n",
    "        W = np.asarray(\n",
    "            self.random_state.normal(-np.sqrt(6.0 / (self.output_dim + self.output_dim)),\n",
    "                                     np.sqrt(6.0 / (self.output_dim + self.output_dim)),\n",
    "                                     (self.output_dim, self.output_dim))\n",
    "            , dtype=theano.config.floatX)\n",
    "\n",
    "        bias_input = np.zeros(self.output_dim, dtype=theano.config.floatX)\n",
    "        bias_forget = np.zeros(self.output_dim, dtype=theano.config.floatX)\n",
    "        bias_output = np.zeros(self.output_dim, dtype=theano.config.floatX)\n",
    "        bias = np.zeros(self.output_dim, dtype=theano.config.floatX)\n",
    "\n",
    "        \n",
    "        self.W = theano.shared(value=W, name=\"W\" + self.layer_id, borrow=\"True\")\n",
    "        self.U = theano.shared(value=U, name=\"U\" + self.layer_id, borrow=\"True\")\n",
    "        self.bias = theano.shared(value=bias, name=\"bias\", borrow=\"True\")\n",
    "\n",
    "        self.W_input = theano.shared(value=W_input, name=\"W_input\" + self.layer_id, borrow=\"True\")\n",
    "        self.U_input = theano.shared(value=U_input, name=\"U_input\" + self.layer_id, borrow=\"True\")\n",
    "        self.bias_input = theano.shared(value=bias_input, name=\"bias_input\" + self.layer_id, borrow=\"True\")\n",
    "\n",
    "        self.W_output = theano.shared(value=W_output, name=\"W_output\" + self.layer_id, borrow=\"True\")\n",
    "        self.U_output = theano.shared(value=U_output, name=\"U_output\" + self.layer_id, borrow=\"True\")\n",
    "        self.bias_output = theano.shared(value=bias_output, name=\"bias_output\" + self.layer_id, borrow=\"True\")\n",
    "\n",
    "        self.W_forget = theano.shared(value=W_forget, name=\"W_forget\" + self.layer_id, borrow=\"True\")\n",
    "        self.U_forget = theano.shared(value=U_forget, name=\"U_forget\" + self.layer_id, borrow=\"True\")\n",
    "        self.bias_forget = theano.shared(value=bias_forget, name=\"bias_forget\" + self.layer_id, borrow=\"True\")\n",
    "        self.W = theano.shared(value=W, name=\"W\" + self.layer_id, borrow=\"True\")\n",
    "        self.U = theano.shared(value=U, name=\"U\" + self.layer_id, borrow=\"True\")\n",
    "        self.bias = theano.shared(value=bias, name=\"bias\", borrow=\"True\")\n",
    "        O_w = np.asarray(\n",
    "            self.random_state.normal(-np.sqrt(6.0 / (self.output_dim + self.output_dim)),\n",
    "                                      np.sqrt(6.0 / (self.output_dim + self.output_dim)),\n",
    "                                      (self.outer_output_dim,self.output_dim))\n",
    "            , dtype=theano.config.floatX)\n",
    "\n",
    "        O_bias = np.zeros(self.outer_output_dim, dtype=theano.config.floatX)\n",
    "\n",
    "        self.O_w = theano.shared(value=O_w, name=\"O_w\"+self.layer_id, borrow=\"True\")\n",
    "        self.O_bias = theano.shared(value=O_bias, name=\"O_bias\"+self.layer_id, borrow=\"True\")\n",
    "\n",
    "        self.params = [self.U_input, self.U_forget, self.U_output, self.W_input, self.W_forget, self.W_output,\n",
    "                       self.bias_input, self.bias_forget, self.bias_output, self.U, self.W, self.bias,\n",
    "                       ]\n",
    "\n",
    "        self.output_params = [self.O_w,self.O_bias]\n",
    "    \n",
    "\n",
    "    \n",
    "    def build_model(self):\n",
    "        def forward_step(x_t,prev_state,prev_content):\n",
    "            input_gate = T.nnet.hard_sigmoid(T.dot(self.U_input,x_t) + T.dot(self.W_input,prev_state) + self.bias_input)\n",
    "            forget_gate = T.nnet.hard_sigmoid(T.dot(self.U_forget,x_t) + T.dot(self.W_forget,prev_state) + self.bias_forget)\n",
    "            output_gate = T.nnet.hard_sigmoid(T.dot(self.U_output,x_t) + T.dot(self.W_output,prev_state) + self.bias_output)\n",
    "\n",
    "            stabialized_input = T.tanh(T.dot(self.U,x_t) + T.dot(self.W,prev_state) + self.bias)\n",
    "            c = forget_gate * prev_content + input_gate * stabialized_input\n",
    "            s = output_gate * T.tanh(c)\n",
    "\n",
    "            o = T.round(T.nnet.sigmoid(T.dot(self.O_w,s) + self.O_bias))\n",
    "\n",
    "            return [o,s,c]\n",
    "        \n",
    "        params = self.params + self.output_params\n",
    "        \n",
    "        initial_hidden_state = T.matrix('H')\n",
    "        y = T.scalar('Y')\n",
    "        x = T.matrix('X')    \n",
    "        \n",
    "        [output,states,mem_content],updates = theano.scan(forward_step,n_steps=10,\n",
    "                                                          outputs_info= [dict(initial=T.zeros(self.outer_output_dim,dtype=theano.config.floatX)), \n",
    "                                                                        dict(initial=T.zeros(self.output_dim,dtype=theano.config.floatX)), \n",
    "                                                                        dict(initial=T.zeros(self.output_dim,dtype=theano.config.floatX))])\n",
    "        \n",
    "        self.forward_step = theano.function([],[output])            \n",
    "        cost = T.max(abs( y - output[-1]))\n",
    "        grads = theano.grad(cost,params) # [2*cost - 1 for p in params] #\n",
    "        updates = [ (p,p - self.learning_rate*g*p) for p,g in zip(params,grads)]\n",
    "        self.training_step = theano.function([y],grads, updates=updates)\n",
    "        \n",
    "        \n",
    "            \n",
    "    \n",
    "    \n",
    "\n",
    "\n",
    "\n",
    "    "
   ]
  },
  {
   "cell_type": "code",
   "execution_count": 54,
   "metadata": {
    "collapsed": false
   },
   "outputs": [],
   "source": [
    "lstm_cell = LSTM_cell()\n",
    "lstm_cell.build_model()\n"
   ]
  },
  {
   "cell_type": "code",
   "execution_count": 55,
   "metadata": {
    "collapsed": false
   },
   "outputs": [
    {
     "name": "stdout",
     "output_type": "stream",
     "text": [
      "[array([[ 1.,  1.,  1.,  1.,  1.,  1.,  1.,  1.,  1.,  1.],\n",
      "       [ 1.,  1.,  1.,  1.,  1.,  1.,  1.,  1.,  1.,  1.],\n",
      "       [ 1.,  1.,  1.,  1.,  1.,  1.,  1.,  1.,  1.,  1.],\n",
      "       [ 1.,  1.,  1.,  1.,  1.,  1.,  1.,  1.,  1.,  1.],\n",
      "       [ 1.,  1.,  1.,  1.,  1.,  1.,  1.,  1.,  1.,  1.],\n",
      "       [ 1.,  1.,  1.,  1.,  1.,  1.,  1.,  1.,  1.,  1.],\n",
      "       [ 1.,  1.,  1.,  1.,  1.,  1.,  1.,  1.,  1.,  1.],\n",
      "       [ 1.,  1.,  1.,  1.,  1.,  1.,  1.,  1.,  1.,  1.],\n",
      "       [ 1.,  1.,  1.,  1.,  1.,  1.,  1.,  1.,  1.,  1.],\n",
      "       [ 1.,  1.,  1.,  1.,  1.,  1.,  1.,  1.,  1.,  1.]], dtype=float32)]\n"
     ]
    }
   ],
   "source": [
    "a = lstm_cell.forward_step()\n",
    "print(a)"
   ]
  },
  {
   "cell_type": "code",
   "execution_count": 56,
   "metadata": {
    "collapsed": false
   },
   "outputs": [
    {
     "ename": "TypeError",
     "evalue": "('Bad input argument to theano function with name \"<ipython-input-53-066647041427>:138\" at index 0 (0-based)', 'Wrong number of dimensions: expected 0, got 1 with shape (10,).')",
     "output_type": "error",
     "traceback": [
      "\u001b[0;31m---------------------------------------------------------------------------\u001b[0m",
      "\u001b[0;31mTypeError\u001b[0m                                 Traceback (most recent call last)",
      "\u001b[0;32m<ipython-input-56-aece8b2111c1>\u001b[0m in \u001b[0;36m<module>\u001b[0;34m()\u001b[0m\n\u001b[1;32m      4\u001b[0m     \u001b[0;31m#Y = [h for h in H]\u001b[0m\u001b[0;34m\u001b[0m\u001b[0;34m\u001b[0m\u001b[0m\n\u001b[1;32m      5\u001b[0m     \u001b[0;31m#X = [0 for y in Y]\u001b[0m\u001b[0;34m\u001b[0m\u001b[0;34m\u001b[0m\u001b[0m\n\u001b[0;32m----> 6\u001b[0;31m     \u001b[0moutputs\u001b[0m \u001b[0;34m=\u001b[0m \u001b[0mlstm_cell\u001b[0m\u001b[0;34m.\u001b[0m\u001b[0mtraining_step\u001b[0m\u001b[0;34m(\u001b[0m\u001b[0mnp\u001b[0m\u001b[0;34m.\u001b[0m\u001b[0masarray\u001b[0m\u001b[0;34m(\u001b[0m\u001b[0mH\u001b[0m\u001b[0;34m,\u001b[0m\u001b[0mdtype\u001b[0m\u001b[0;34m=\u001b[0m\u001b[0;34m'float32'\u001b[0m\u001b[0;34m)\u001b[0m\u001b[0;34m)\u001b[0m\u001b[0;34m\u001b[0m\u001b[0m\n\u001b[0m\u001b[1;32m      7\u001b[0m     \u001b[0mprint\u001b[0m\u001b[0;34m(\u001b[0m\u001b[0mH\u001b[0m\u001b[0;34m)\u001b[0m\u001b[0;34m\u001b[0m\u001b[0m\n\u001b[1;32m      8\u001b[0m     \u001b[0mprint\u001b[0m\u001b[0;34m(\u001b[0m\u001b[0moutputs\u001b[0m\u001b[0;34m)\u001b[0m\u001b[0;34m\u001b[0m\u001b[0m\n",
      "\u001b[0;32m/Library/Frameworks/Python.framework/Versions/3.5/lib/python3.5/site-packages/theano/compile/function_module.py\u001b[0m in \u001b[0;36m__call__\u001b[0;34m(self, *args, **kwargs)\u001b[0m\n\u001b[1;32m    819\u001b[0m                         s.storage[0] = s.type.filter(\n\u001b[1;32m    820\u001b[0m                             \u001b[0marg\u001b[0m\u001b[0;34m,\u001b[0m \u001b[0mstrict\u001b[0m\u001b[0;34m=\u001b[0m\u001b[0ms\u001b[0m\u001b[0;34m.\u001b[0m\u001b[0mstrict\u001b[0m\u001b[0;34m,\u001b[0m\u001b[0;34m\u001b[0m\u001b[0m\n\u001b[0;32m--> 821\u001b[0;31m                             allow_downcast=s.allow_downcast)\n\u001b[0m\u001b[1;32m    822\u001b[0m \u001b[0;34m\u001b[0m\u001b[0m\n\u001b[1;32m    823\u001b[0m                     \u001b[0;32mexcept\u001b[0m \u001b[0mException\u001b[0m \u001b[0;32mas\u001b[0m \u001b[0me\u001b[0m\u001b[0;34m:\u001b[0m\u001b[0;34m\u001b[0m\u001b[0m\n",
      "\u001b[0;32m/Library/Frameworks/Python.framework/Versions/3.5/lib/python3.5/site-packages/theano/tensor/type.py\u001b[0m in \u001b[0;36mfilter\u001b[0;34m(self, data, strict, allow_downcast)\u001b[0m\n\u001b[1;32m    176\u001b[0m             raise TypeError(\"Wrong number of dimensions: expected %s,\"\n\u001b[1;32m    177\u001b[0m                             \" got %s with shape %s.\" % (self.ndim, data.ndim,\n\u001b[0;32m--> 178\u001b[0;31m                                                         data.shape))\n\u001b[0m\u001b[1;32m    179\u001b[0m         \u001b[0;32mif\u001b[0m \u001b[0;32mnot\u001b[0m \u001b[0mdata\u001b[0m\u001b[0;34m.\u001b[0m\u001b[0mflags\u001b[0m\u001b[0;34m.\u001b[0m\u001b[0maligned\u001b[0m\u001b[0;34m:\u001b[0m\u001b[0;34m\u001b[0m\u001b[0m\n\u001b[1;32m    180\u001b[0m             \u001b[0;32mtry\u001b[0m\u001b[0;34m:\u001b[0m\u001b[0;34m\u001b[0m\u001b[0m\n",
      "\u001b[0;31mTypeError\u001b[0m: ('Bad input argument to theano function with name \"<ipython-input-53-066647041427>:138\" at index 0 (0-based)', 'Wrong number of dimensions: expected 0, got 1 with shape (10,).')"
     ]
    }
   ],
   "source": [
    "\n",
    "for i in np.arange(100):\n",
    "    H = np.random.binomial(1, 0, size=10)\n",
    "    #Y = [h for h in H]\n",
    "    #X = [0 for y in Y]\n",
    "    outputs = lstm_cell.training_step(np.asarray(H,dtype='float32'))\n",
    "    print(H)\n",
    "    print(outputs)\n",
    "\n"
   ]
  },
  {
   "cell_type": "code",
   "execution_count": null,
   "metadata": {
    "collapsed": false
   },
   "outputs": [],
   "source": [
    "lstm_cell.buil_model()\n",
    "print(np.argmax(outputs))"
   ]
  },
  {
   "cell_type": "code",
   "execution_count": null,
   "metadata": {
    "collapsed": false
   },
   "outputs": [],
   "source": [
    "print(outputs)\n",
    "print(np.argmax(outputs,axis=1))"
   ]
  },
  {
   "cell_type": "code",
   "execution_count": null,
   "metadata": {
    "collapsed": true
   },
   "outputs": [],
   "source": []
  }
 ],
 "metadata": {
  "kernelspec": {
   "display_name": "Python 3",
   "language": "python",
   "name": "python3"
  },
  "language_info": {
   "codemirror_mode": {
    "name": "ipython",
    "version": 3
   },
   "file_extension": ".py",
   "mimetype": "text/x-python",
   "name": "python",
   "nbconvert_exporter": "python",
   "pygments_lexer": "ipython3",
   "version": "3.5.1"
  }
 },
 "nbformat": 4,
 "nbformat_minor": 0
}
